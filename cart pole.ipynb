{
 "cells": [
  {
   "cell_type": "code",
   "execution_count": 4,
   "metadata": {},
   "outputs": [],
   "source": [
    "import gym\n",
    "import numpy as np\n",
    "from collections import deque\n",
    "import matplotlib.pyplot as plt\n",
    "env = gym.make('CartPole-v0')\n",
    "\n",
    "\n"
   ]
  },
  {
   "cell_type": "code",
   "execution_count": null,
   "metadata": {},
   "outputs": [],
   "source": [
    "env.reset()\n",
    "#random\n",
    "for i_episode in range(1):\n",
    "    observation = env.reset()\n",
    "    for _ in range(100):\n",
    "        env.render()\n",
    "        step= env.action_space.sample()\n",
    "        observation,reward,done,info= env.step(step) # take a random action\n",
    "\n",
    "        #print(step,observation,reward)\n",
    "#         if done:\n",
    "#             print(\"episode finished after {} timesteps\".format(_+1))\n",
    "#             break\n",
    "env.close()"
   ]
  },
  {
   "cell_type": "code",
   "execution_count": 42,
   "metadata": {},
   "outputs": [],
   "source": []
  },
  {
   "cell_type": "code",
   "execution_count": 12,
   "metadata": {},
   "outputs": [],
   "source": [
    "class Policy():\n",
    "    def __init__(self,o_size = 4,a_size = 2):#observe size = 4, action size = 2)\n",
    "        #Create an array of the given shape and populate it with random samples from a uniform distribution over [0, 1).\n",
    "        self.w = 1e-4*np.random.rand(o_size,a_size)\n",
    "    def forward(self,state):\n",
    "        x = np.dot(state,self.w)\n",
    "        #exp: Calculate e^x for all elements in the array. e = 2.71828\n",
    "        return np.exp(x)/sum(np.exp(x))\n",
    "    def act(self,state):\n",
    "        probs = self.forward(state)\n",
    "        #argmax: Returns the indices of the maximum values along an axis.\n",
    "        action = np.argmax(probs) \n",
    "        return action"
   ]
  },
  {
   "cell_type": "code",
   "execution_count": 38,
   "metadata": {},
   "outputs": [
    {
     "name": "stdout",
     "output_type": "stream",
     "text": [
      "episode 0\t average score: 108.0\n",
      "episode 50\t average score: 78.90196078431373\n",
      "episode 100\t average score: 139.16\n",
      "Environment solved in 137 spisodes\n"
     ]
    }
   ],
   "source": [
    "policy = Policy()\n",
    "def hill_climbing(n_episode = 1000,max_t = 201, noise_scale = 1e-2, print_every = 50):\n",
    "    \"\"\"\n",
    "        n_episodes (int): maximum number of training episodes\n",
    "        max_t (int): maximum number of timesteps per episode\n",
    "        noise_scale (float): standard deviation of additive noise\n",
    "        print_every (int): how often to print average score (over last 100 episodes)\n",
    "    \"\"\"\n",
    "    scores_deque = deque(maxlen = 100)\n",
    "    scores = []\n",
    "    best_R = -np.Inf\n",
    "    best_w = policy.w\n",
    "    for i_episode in range(n_episode):\n",
    "        rewards = []\n",
    "        state = env.reset()\n",
    "        for t in range(max_t):\n",
    "            action = policy.act(state)\n",
    "            state,reward,done,info = env.step(action)\n",
    "            rewards.append(reward)\n",
    "            if done: #done means failed or step larger than 200\n",
    "                break\n",
    "        scores_deque.append(sum(rewards))\n",
    "        scores.append(sum(rewards))\n",
    "        R = sum(rewards)\n",
    "        if R>=best_R:#found better weights\n",
    "            best_R = R\n",
    "            best_w = policy.w\n",
    "            noise_scale = max(1e-3,noise_scale/2)#noise decrease\n",
    "            policy.w += noise_scale*np.random.rand(*policy.w.shape) #shpae is (4,2), * is unzip a tuple to 4,2\n",
    "        else:\n",
    "            noise_scale = min(2,noise_scale*2)\n",
    "            policy.w = best_w+noise_scale*np.random.rand(*policy.w.shape)\n",
    "        if i_episode%print_every ==0:\n",
    "            print(\"episode {}\\t average score: {}\".format(i_episode,np.mean(scores_deque)))\n",
    "        if np.mean(scores_deque)>195:\n",
    "            print(\"Environment solved in {} spisodes\".format(i_episode))\n",
    "            policy.w = best_w\n",
    "            break\n",
    "    return scores\n",
    "        \n",
    "scores = hill_climbing()"
   ]
  },
  {
   "cell_type": "code",
   "execution_count": 39,
   "metadata": {},
   "outputs": [
    {
     "data": {
      "image/png": "[encoded data removed]",
      "text/plain": [
       "<Figure size 432x288 with 1 Axes>"
      ]
     },
     "metadata": {
      "needs_background": "light"
     },
     "output_type": "display_data"
    }
   ],
   "source": [
    "fig = plt.figure()\n",
    "ax = fig.add_subplot(111)\n",
    "plt.plot(np.arange(len(scores)),scores)\n",
    "plt.ylabel(\"score\")\n",
    "plt.xlabel(\"episode #\")\n",
    "plt.show()"
   ]
  },
  {
   "cell_type": "code",
   "execution_count": 40,
   "metadata": {},
   "outputs": [],
   "source": [
    "state = env.reset()\n",
    "for t in range(200):\n",
    "    action = policy.act(state)\n",
    "    env.render()\n",
    "    state,reward,done,info = env.step(action)\n",
    "    if done:\n",
    "        break\n",
    "env.close()"
   ]
  },
  {
   "cell_type": "code",
   "execution_count": null,
   "metadata": {},
   "outputs": [],
   "source": []
  }
 ],
 "metadata": {
  "kernelspec": {
   "display_name": "Python 3",
   "language": "python",
   "name": "python3"
  },
  "language_info": {
   "codemirror_mode": {
    "name": "ipython",
    "version": 3
   },
   "file_extension": ".py",
   "mimetype": "text/x-python",
   "name": "python",
   "nbconvert_exporter": "python",
   "pygments_lexer": "ipython3",
   "version": "3.7.1"
  }
 },
 "nbformat": 4,
 "nbformat_minor": 2
}

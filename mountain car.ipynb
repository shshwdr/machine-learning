{
 "cells": [
  {
   "cell_type": "code",
   "execution_count": null,
   "metadata": {},
   "outputs": [],
   "source": [
    "import gym\n",
    "import numpy as np\n",
    "from collections import deque\n",
    "import matplotlib.pyplot as plt\n",
    "env = gym.make('MountainCar-v0')\n",
    "\n",
    "env.reset()\n",
    "#random\n",
    "for i_episode in range(1):\n",
    "    observation = env.reset()\n",
    "    for _ in range(1000):\n",
    "        env.render()\n",
    "        step= env.action_space.sample()\n",
    "        observation,reward,done,info= env.step(step) # take a random action\n",
    "\n",
    "        #print(step,observation,reward)\n",
    "#         if done:\n",
    "#             print(\"episode finished after {} timesteps\".format(_+1))\n",
    "#             break\n",
    "env.close()"
   ]
  }
 ],
 "metadata": {
  "kernelspec": {
   "display_name": "Python 3",
   "language": "python",
   "name": "python3"
  },
  "language_info": {
   "codemirror_mode": {
    "name": "ipython",
    "version": 3
   },
   "file_extension": ".py",
   "mimetype": "text/x-python",
   "name": "python",
   "nbconvert_exporter": "python",
   "pygments_lexer": "ipython3",
   "version": "3.7.1"
  }
 },
 "nbformat": 4,
 "nbformat_minor": 2
}
